{
  "cells": [
    {
      "cell_type": "markdown",
      "metadata": {
        "id": "3eridH9-Uv-C"
      },
      "source": [
        "This is a companion notebook for the book [Deep Learning with Python, Second Edition](https://www.manning.com/books/deep-learning-with-python-second-edition?a_aid=keras&a_bid=76564dff). For readability, it only contains runnable code blocks and section titles, and omits everything else in the book: text paragraphs, figures, and pseudocode.\n",
        "\n",
        "**If you want to be able to follow what's going on, I recommend reading the notebook side by side with your copy of the book.**\n",
        "\n",
        "This notebook was generated for TensorFlow 2.6."
      ]
    },
    {
      "cell_type": "markdown",
      "metadata": {
        "id": "sRKTxvyfUv-G"
      },
      "source": [
        "# Deep learning for timeseries"
      ]
    },
    {
      "cell_type": "markdown",
      "metadata": {
        "id": "1qc7UiqdUv-H"
      },
      "source": [
        "## Different kinds of timeseries tasks"
      ]
    },
    {
      "cell_type": "markdown",
      "metadata": {
        "id": "7TlL7ZUgUv-I"
      },
      "source": [
        "## A temperature-forecasting example"
      ]
    },
    {
      "cell_type": "code",
      "execution_count": 2,
      "metadata": {
        "colab": {
          "base_uri": "https://localhost:8080/"
        },
        "id": "-cNPtiqjUv-I",
        "outputId": "aaf77a6a-9063-4385-b913-5f976dbef759"
      },
      "outputs": [
        {
          "output_type": "stream",
          "name": "stdout",
          "text": [
            "Collecting tensorflow==2.12\n",
            "  Downloading tensorflow-2.12.0-cp310-cp310-manylinux_2_17_x86_64.manylinux2014_x86_64.whl (585.9 MB)\n",
            "\u001b[2K     \u001b[90m━━━━━━━━━━━━━━━━━━━━━━━━━━━━━━━━━━━━━━━━\u001b[0m \u001b[32m585.9/585.9 MB\u001b[0m \u001b[31m2.1 MB/s\u001b[0m eta \u001b[36m0:00:00\u001b[0m\n",
            "\u001b[?25hRequirement already satisfied: absl-py>=1.0.0 in /usr/local/lib/python3.10/dist-packages (from tensorflow==2.12) (1.4.0)\n",
            "Requirement already satisfied: astunparse>=1.6.0 in /usr/local/lib/python3.10/dist-packages (from tensorflow==2.12) (1.6.3)\n",
            "Requirement already satisfied: flatbuffers>=2.0 in /usr/local/lib/python3.10/dist-packages (from tensorflow==2.12) (23.5.26)\n",
            "Collecting gast<=0.4.0,>=0.2.1 (from tensorflow==2.12)\n",
            "  Downloading gast-0.4.0-py3-none-any.whl (9.8 kB)\n",
            "Requirement already satisfied: google-pasta>=0.1.1 in /usr/local/lib/python3.10/dist-packages (from tensorflow==2.12) (0.2.0)\n",
            "Requirement already satisfied: grpcio<2.0,>=1.24.3 in /usr/local/lib/python3.10/dist-packages (from tensorflow==2.12) (1.59.0)\n",
            "Requirement already satisfied: h5py>=2.9.0 in /usr/local/lib/python3.10/dist-packages (from tensorflow==2.12) (3.9.0)\n",
            "Requirement already satisfied: jax>=0.3.15 in /usr/local/lib/python3.10/dist-packages (from tensorflow==2.12) (0.4.16)\n",
            "Collecting keras<2.13,>=2.12.0 (from tensorflow==2.12)\n",
            "  Downloading keras-2.12.0-py2.py3-none-any.whl (1.7 MB)\n",
            "\u001b[2K     \u001b[90m━━━━━━━━━━━━━━━━━━━━━━━━━━━━━━━━━━━━━━━━\u001b[0m \u001b[32m1.7/1.7 MB\u001b[0m \u001b[31m29.5 MB/s\u001b[0m eta \u001b[36m0:00:00\u001b[0m\n",
            "\u001b[?25hRequirement already satisfied: libclang>=13.0.0 in /usr/local/lib/python3.10/dist-packages (from tensorflow==2.12) (16.0.6)\n",
            "Requirement already satisfied: numpy<1.24,>=1.22 in /usr/local/lib/python3.10/dist-packages (from tensorflow==2.12) (1.23.5)\n",
            "Requirement already satisfied: opt-einsum>=2.3.2 in /usr/local/lib/python3.10/dist-packages (from tensorflow==2.12) (3.3.0)\n",
            "Requirement already satisfied: packaging in /usr/local/lib/python3.10/dist-packages (from tensorflow==2.12) (23.2)\n",
            "Requirement already satisfied: protobuf!=4.21.0,!=4.21.1,!=4.21.2,!=4.21.3,!=4.21.4,!=4.21.5,<5.0.0dev,>=3.20.3 in /usr/local/lib/python3.10/dist-packages (from tensorflow==2.12) (3.20.3)\n",
            "Requirement already satisfied: setuptools in /usr/local/lib/python3.10/dist-packages (from tensorflow==2.12) (67.7.2)\n",
            "Requirement already satisfied: six>=1.12.0 in /usr/local/lib/python3.10/dist-packages (from tensorflow==2.12) (1.16.0)\n",
            "Collecting tensorboard<2.13,>=2.12 (from tensorflow==2.12)\n",
            "  Downloading tensorboard-2.12.3-py3-none-any.whl (5.6 MB)\n",
            "\u001b[2K     \u001b[90m━━━━━━━━━━━━━━━━━━━━━━━━━━━━━━━━━━━━━━━━\u001b[0m \u001b[32m5.6/5.6 MB\u001b[0m \u001b[31m64.1 MB/s\u001b[0m eta \u001b[36m0:00:00\u001b[0m\n",
            "\u001b[?25hCollecting tensorflow-estimator<2.13,>=2.12.0 (from tensorflow==2.12)\n",
            "  Downloading tensorflow_estimator-2.12.0-py2.py3-none-any.whl (440 kB)\n",
            "\u001b[2K     \u001b[90m━━━━━━━━━━━━━━━━━━━━━━━━━━━━━━━━━━━━━━━━\u001b[0m \u001b[32m440.7/440.7 kB\u001b[0m \u001b[31m32.2 MB/s\u001b[0m eta \u001b[36m0:00:00\u001b[0m\n",
            "\u001b[?25hRequirement already satisfied: termcolor>=1.1.0 in /usr/local/lib/python3.10/dist-packages (from tensorflow==2.12) (2.3.0)\n",
            "Requirement already satisfied: typing-extensions>=3.6.6 in /usr/local/lib/python3.10/dist-packages (from tensorflow==2.12) (4.5.0)\n",
            "Requirement already satisfied: wrapt<1.15,>=1.11.0 in /usr/local/lib/python3.10/dist-packages (from tensorflow==2.12) (1.14.1)\n",
            "Requirement already satisfied: tensorflow-io-gcs-filesystem>=0.23.1 in /usr/local/lib/python3.10/dist-packages (from tensorflow==2.12) (0.34.0)\n",
            "Requirement already satisfied: wheel<1.0,>=0.23.0 in /usr/local/lib/python3.10/dist-packages (from astunparse>=1.6.0->tensorflow==2.12) (0.41.2)\n",
            "Requirement already satisfied: ml-dtypes>=0.2.0 in /usr/local/lib/python3.10/dist-packages (from jax>=0.3.15->tensorflow==2.12) (0.2.0)\n",
            "Requirement already satisfied: scipy>=1.7 in /usr/local/lib/python3.10/dist-packages (from jax>=0.3.15->tensorflow==2.12) (1.11.3)\n",
            "Requirement already satisfied: google-auth<3,>=1.6.3 in /usr/local/lib/python3.10/dist-packages (from tensorboard<2.13,>=2.12->tensorflow==2.12) (2.17.3)\n",
            "Requirement already satisfied: google-auth-oauthlib<1.1,>=0.5 in /usr/local/lib/python3.10/dist-packages (from tensorboard<2.13,>=2.12->tensorflow==2.12) (1.0.0)\n",
            "Requirement already satisfied: markdown>=2.6.8 in /usr/local/lib/python3.10/dist-packages (from tensorboard<2.13,>=2.12->tensorflow==2.12) (3.5)\n",
            "Requirement already satisfied: requests<3,>=2.21.0 in /usr/local/lib/python3.10/dist-packages (from tensorboard<2.13,>=2.12->tensorflow==2.12) (2.31.0)\n",
            "Requirement already satisfied: tensorboard-data-server<0.8.0,>=0.7.0 in /usr/local/lib/python3.10/dist-packages (from tensorboard<2.13,>=2.12->tensorflow==2.12) (0.7.2)\n",
            "Requirement already satisfied: werkzeug>=1.0.1 in /usr/local/lib/python3.10/dist-packages (from tensorboard<2.13,>=2.12->tensorflow==2.12) (3.0.1)\n",
            "Requirement already satisfied: cachetools<6.0,>=2.0.0 in /usr/local/lib/python3.10/dist-packages (from google-auth<3,>=1.6.3->tensorboard<2.13,>=2.12->tensorflow==2.12) (5.3.2)\n",
            "Requirement already satisfied: pyasn1-modules>=0.2.1 in /usr/local/lib/python3.10/dist-packages (from google-auth<3,>=1.6.3->tensorboard<2.13,>=2.12->tensorflow==2.12) (0.3.0)\n",
            "Requirement already satisfied: rsa<5,>=3.1.4 in /usr/local/lib/python3.10/dist-packages (from google-auth<3,>=1.6.3->tensorboard<2.13,>=2.12->tensorflow==2.12) (4.9)\n",
            "Requirement already satisfied: requests-oauthlib>=0.7.0 in /usr/local/lib/python3.10/dist-packages (from google-auth-oauthlib<1.1,>=0.5->tensorboard<2.13,>=2.12->tensorflow==2.12) (1.3.1)\n",
            "Requirement already satisfied: charset-normalizer<4,>=2 in /usr/local/lib/python3.10/dist-packages (from requests<3,>=2.21.0->tensorboard<2.13,>=2.12->tensorflow==2.12) (3.3.1)\n",
            "Requirement already satisfied: idna<4,>=2.5 in /usr/local/lib/python3.10/dist-packages (from requests<3,>=2.21.0->tensorboard<2.13,>=2.12->tensorflow==2.12) (3.4)\n",
            "Requirement already satisfied: urllib3<3,>=1.21.1 in /usr/local/lib/python3.10/dist-packages (from requests<3,>=2.21.0->tensorboard<2.13,>=2.12->tensorflow==2.12) (2.0.7)\n",
            "Requirement already satisfied: certifi>=2017.4.17 in /usr/local/lib/python3.10/dist-packages (from requests<3,>=2.21.0->tensorboard<2.13,>=2.12->tensorflow==2.12) (2023.7.22)\n",
            "Requirement already satisfied: MarkupSafe>=2.1.1 in /usr/local/lib/python3.10/dist-packages (from werkzeug>=1.0.1->tensorboard<2.13,>=2.12->tensorflow==2.12) (2.1.3)\n",
            "Requirement already satisfied: pyasn1<0.6.0,>=0.4.6 in /usr/local/lib/python3.10/dist-packages (from pyasn1-modules>=0.2.1->google-auth<3,>=1.6.3->tensorboard<2.13,>=2.12->tensorflow==2.12) (0.5.0)\n",
            "Requirement already satisfied: oauthlib>=3.0.0 in /usr/local/lib/python3.10/dist-packages (from requests-oauthlib>=0.7.0->google-auth-oauthlib<1.1,>=0.5->tensorboard<2.13,>=2.12->tensorflow==2.12) (3.2.2)\n",
            "Installing collected packages: tensorflow-estimator, keras, gast, tensorboard, tensorflow\n",
            "  Attempting uninstall: tensorflow-estimator\n",
            "    Found existing installation: tensorflow-estimator 2.14.0\n",
            "    Uninstalling tensorflow-estimator-2.14.0:\n",
            "      Successfully uninstalled tensorflow-estimator-2.14.0\n",
            "  Attempting uninstall: keras\n",
            "    Found existing installation: keras 2.14.0\n",
            "    Uninstalling keras-2.14.0:\n",
            "      Successfully uninstalled keras-2.14.0\n",
            "  Attempting uninstall: gast\n",
            "    Found existing installation: gast 0.5.4\n",
            "    Uninstalling gast-0.5.4:\n",
            "      Successfully uninstalled gast-0.5.4\n",
            "  Attempting uninstall: tensorboard\n",
            "    Found existing installation: tensorboard 2.14.1\n",
            "    Uninstalling tensorboard-2.14.1:\n",
            "      Successfully uninstalled tensorboard-2.14.1\n",
            "  Attempting uninstall: tensorflow\n",
            "    Found existing installation: tensorflow 2.14.0\n",
            "    Uninstalling tensorflow-2.14.0:\n",
            "      Successfully uninstalled tensorflow-2.14.0\n",
            "Successfully installed gast-0.4.0 keras-2.12.0 tensorboard-2.12.3 tensorflow-2.12.0 tensorflow-estimator-2.12.0\n",
            "--2023-11-05 21:32:38--  https://s3.amazonaws.com/keras-datasets/jena_climate_2009_2016.csv.zip\n",
            "Resolving s3.amazonaws.com (s3.amazonaws.com)... 52.217.166.0, 54.231.195.72, 16.182.36.48, ...\n",
            "Connecting to s3.amazonaws.com (s3.amazonaws.com)|52.217.166.0|:443... connected.\n",
            "HTTP request sent, awaiting response... 200 OK\n",
            "Length: 13565642 (13M) [application/zip]\n",
            "Saving to: ‘jena_climate_2009_2016.csv.zip’\n",
            "\n",
            "jena_climate_2009_2 100%[===================>]  12.94M  59.9MB/s    in 0.2s    \n",
            "\n",
            "2023-11-05 21:32:39 (59.9 MB/s) - ‘jena_climate_2009_2016.csv.zip’ saved [13565642/13565642]\n",
            "\n",
            "Archive:  jena_climate_2009_2016.csv.zip\n",
            "  inflating: jena_climate_2009_2016.csv  \n",
            "  inflating: __MACOSX/._jena_climate_2009_2016.csv  \n"
          ]
        }
      ],
      "source": [
        "!pip install tensorflow==2.12\n",
        "!wget https://s3.amazonaws.com/keras-datasets/jena_climate_2009_2016.csv.zip\n",
        "!unzip jena_climate_2009_2016.csv.zip"
      ]
    },
    {
      "cell_type": "markdown",
      "metadata": {
        "id": "g9-TamSuUv-J"
      },
      "source": [
        "**Inspecting the data of the Jena weather dataset**"
      ]
    },
    {
      "cell_type": "code",
      "execution_count": 4,
      "metadata": {
        "colab": {
          "base_uri": "https://localhost:8080/"
        },
        "id": "nFdMEZPuUv-K",
        "outputId": "8d4505b1-d8f7-40f5-809b-a30e80a183af"
      },
      "outputs": [
        {
          "output_type": "stream",
          "name": "stdout",
          "text": [
            "['\"Date Time\"', '\"p (mbar)\"', '\"T (degC)\"', '\"Tpot (K)\"', '\"Tdew (degC)\"', '\"rh (%)\"', '\"VPmax (mbar)\"', '\"VPact (mbar)\"', '\"VPdef (mbar)\"', '\"sh (g/kg)\"', '\"H2OC (mmol/mol)\"', '\"rho (g/m**3)\"', '\"wv (m/s)\"', '\"max. wv (m/s)\"', '\"wd (deg)\"']\n",
            "420451\n"
          ]
        }
      ],
      "source": [
        "import os\n",
        "fname = os.path.join(\"jena_climate_2009_2016.csv\")\n",
        "\n",
        "with open(fname) as f:\n",
        "    data = f.read()\n",
        "\n",
        "lines = data.split(\"\\n\")\n",
        "header = lines[0].split(\",\")\n",
        "lines = lines[1:]\n",
        "print(header)\n",
        "print(len(lines))"
      ]
    },
    {
      "cell_type": "markdown",
      "metadata": {
        "id": "88zGr6UzUv-K"
      },
      "source": [
        "**Parsing the data**"
      ]
    },
    {
      "cell_type": "code",
      "execution_count": 5,
      "metadata": {
        "id": "xqjavduGUv-K"
      },
      "outputs": [],
      "source": [
        "import numpy as np\n",
        "temperature = np.zeros((len(lines),))\n",
        "raw_data = np.zeros((len(lines), len(header) - 1))\n",
        "for i, line in enumerate(lines):\n",
        "    values = [float(x) for x in line.split(\",\")[1:]]\n",
        "    temperature[i] = values[1]\n",
        "    raw_data[i, :] = values[:]"
      ]
    },
    {
      "cell_type": "markdown",
      "metadata": {
        "id": "HT_tCohuUv-L"
      },
      "source": [
        "**Plotting the temperature timeseries**"
      ]
    },
    {
      "cell_type": "code",
      "execution_count": 6,
      "metadata": {
        "colab": {
          "base_uri": "https://localhost:8080/",
          "height": 451
        },
        "id": "JdYjRMCqUv-L",
        "outputId": "e827d42d-5db3-48b3-b168-4653095236d5"
      },
      "outputs": [
        {
          "output_type": "execute_result",
          "data": {
            "text/plain": [
              "[<matplotlib.lines.Line2D at 0x7f0421ba26b0>]"
            ]
          },
          "metadata": {},
          "execution_count": 6
        },
        {
          "output_type": "display_data",
          "data": {
            "text/plain": [
              "<Figure size 640x480 with 1 Axes>"
            ],
            "image/png": "[encoded data removed]"
          },
          "metadata": {}
        }
      ],
      "source": [
        "from matplotlib import pyplot as plt\n",
        "plt.plot(range(len(temperature)), temperature)"
      ]
    },
    {
      "cell_type": "markdown",
      "metadata": {
        "id": "A-xYYB5DUv-L"
      },
      "source": [
        "**Plotting the first 10 days of the temperature timeseries**"
      ]
    },
    {
      "cell_type": "code",
      "execution_count": 7,
      "metadata": {
        "colab": {
          "base_uri": "https://localhost:8080/",
          "height": 447
        },
        "id": "I4GjSNcIUv-L",
        "outputId": "5cfd360c-ed9f-4481-dd5d-4a825b69f23c"
      },
      "outputs": [
        {
          "output_type": "execute_result",
          "data": {
            "text/plain": [
              "[<matplotlib.lines.Line2D at 0x7f041d8df1c0>]"
            ]
          },
          "metadata": {},
          "execution_count": 7
        },
        {
          "output_type": "display_data",
          "data": {
            "text/plain": [
              "<Figure size 640x480 with 1 Axes>"
            ],
            "image/png": "[encoded data removed]"
          },
          "metadata": {}
        }
      ],
      "source": [
        "plt.plot(range(1440), temperature[:1440])"
      ]
    },
    {
      "cell_type": "markdown",
      "metadata": {
        "id": "hRNL2guEUv-L"
      },
      "source": [
        "**Computing the number of samples we'll use for each data split**"
      ]
    },
    {
      "cell_type": "code",
      "execution_count": 8,
      "metadata": {
        "colab": {
          "base_uri": "https://localhost:8080/"
        },
        "id": "Icnt8kkJUv-M",
        "outputId": "3fd8f823-6554-4c1a-f551-ad5b6e2417aa"
      },
      "outputs": [
        {
          "output_type": "stream",
          "name": "stdout",
          "text": [
            "num_train_samples: 210225\n",
            "num_val_samples: 105112\n",
            "num_test_samples: 105114\n"
          ]
        }
      ],
      "source": [
        "num_train_samples = int(0.5 * len(raw_data))\n",
        "num_val_samples = int(0.25 * len(raw_data))\n",
        "num_test_samples = len(raw_data) - num_train_samples - num_val_samples\n",
        "print(\"num_train_samples:\", num_train_samples)\n",
        "print(\"num_val_samples:\", num_val_samples)\n",
        "print(\"num_test_samples:\", num_test_samples)"
      ]
    },
    {
      "cell_type": "markdown",
      "metadata": {
        "id": "wbh9qx6FUv-M"
      },
      "source": [
        "### Preparing the data"
      ]
    },
    {
      "cell_type": "markdown",
      "metadata": {
        "id": "YqTRnm3oUv-M"
      },
      "source": [
        "**Normalizing the data**"
      ]
    },
    {
      "cell_type": "code",
      "execution_count": 9,
      "metadata": {
        "id": "h4F7O1-uUv-M"
      },
      "outputs": [],
      "source": [
        "mean = raw_data[:num_train_samples].mean(axis=0)\n",
        "raw_data -= mean\n",
        "std = raw_data[:num_train_samples].std(axis=0)\n",
        "raw_data /= std"
      ]
    },
    {
      "cell_type": "code",
      "execution_count": 10,
      "metadata": {
        "colab": {
          "base_uri": "https://localhost:8080/"
        },
        "id": "T68H7PwNUv-M",
        "outputId": "64721063-00a6-4c3c-b2bd-a899d934f535"
      },
      "outputs": [
        {
          "output_type": "stream",
          "name": "stdout",
          "text": [
            "[0, 1, 2] 3\n",
            "[1, 2, 3] 4\n",
            "[2, 3, 4] 5\n",
            "[3, 4, 5] 6\n",
            "[4, 5, 6] 7\n"
          ]
        }
      ],
      "source": [
        "import numpy as np\n",
        "from tensorflow import keras\n",
        "int_sequence = np.arange(10)\n",
        "dummy_dataset = keras.utils.timeseries_dataset_from_array(\n",
        "    data=int_sequence[:-3],\n",
        "    targets=int_sequence[3:],\n",
        "    sequence_length=3,\n",
        "    batch_size=2,\n",
        ")\n",
        "\n",
        "for inputs, targets in dummy_dataset:\n",
        "    for i in range(inputs.shape[0]):\n",
        "        print([int(x) for x in inputs[i]], int(targets[i]))"
      ]
    },
    {
      "cell_type": "markdown",
      "metadata": {
        "id": "HK3MQQIwUv-M"
      },
      "source": [
        "**Instantiating datasets for training, validation, and testing**"
      ]
    },
    {
      "cell_type": "code",
      "execution_count": 15,
      "metadata": {
        "id": "W7lc9k5NUv-M"
      },
      "outputs": [],
      "source": [
        "sampling_rate = 6\n",
        "sequence_length = 120\n",
        "delay = sampling_rate * (sequence_length + 24 - 1)\n",
        "batch_size = 256\n",
        "\n",
        "train_dataset = keras.utils.timeseries_dataset_from_array(\n",
        "    raw_data[:-delay],\n",
        "    targets=temperature[delay:],\n",
        "    sampling_rate=sampling_rate,\n",
        "    sequence_length=sequence_length,\n",
        "    shuffle=True,\n",
        "    batch_size=batch_size,\n",
        "    start_index=0,\n",
        "    end_index=num_train_samples)\n",
        "\n",
        "val_dataset = keras.utils.timeseries_dataset_from_array(\n",
        "    raw_data[:-delay],\n",
        "    targets=temperature[delay:],\n",
        "    sampling_rate=sampling_rate,\n",
        "    sequence_length=sequence_length,\n",
        "    shuffle=True,\n",
        "    batch_size=batch_size,\n",
        "    start_index=num_train_samples,\n",
        "    end_index=num_train_samples + num_val_samples)\n",
        "\n",
        "test_dataset = keras.utils.timeseries_dataset_from_array(\n",
        "    raw_data[:-delay],\n",
        "    targets=temperature[delay:],\n",
        "    sampling_rate=sampling_rate,\n",
        "    sequence_length=sequence_length,\n",
        "    shuffle=True,\n",
        "    batch_size=batch_size,\n",
        "    start_index=num_train_samples + num_val_samples)"
      ]
    },
    {
      "cell_type": "markdown",
      "metadata": {
        "id": "2p3HzDCTUv-M"
      },
      "source": [
        "**Inspecting the output of one of our datasets**"
      ]
    },
    {
      "cell_type": "code",
      "execution_count": 16,
      "metadata": {
        "colab": {
          "base_uri": "https://localhost:8080/"
        },
        "id": "BlAka10lUv-N",
        "outputId": "b401040a-fb00-450c-fbb9-74f6459beaa9"
      },
      "outputs": [
        {
          "output_type": "stream",
          "name": "stdout",
          "text": [
            "samples shape: (256, 120, 14)\n",
            "targets shape: (256,)\n"
          ]
        }
      ],
      "source": [
        "for samples, targets in train_dataset:\n",
        "    print(\"samples shape:\", samples.shape)\n",
        "    print(\"targets shape:\", targets.shape)\n",
        "    break"
      ]
    },
    {
      "cell_type": "markdown",
      "metadata": {
        "id": "byv-slUTUv-N"
      },
      "source": [
        "### A common-sense, non-machine-learning baseline"
      ]
    },
    {
      "cell_type": "markdown",
      "metadata": {
        "id": "zkbSf2J5Uv-N"
      },
      "source": [
        "**Computing the common-sense baseline MAE**"
      ]
    },
    {
      "cell_type": "code",
      "execution_count": 14,
      "metadata": {
        "colab": {
          "base_uri": "https://localhost:8080/"
        },
        "id": "KGBYdDyqUv-N",
        "outputId": "d84db53f-e8be-4b5d-9d86-bdb5a4af2909"
      },
      "outputs": [
        {
          "output_type": "stream",
          "name": "stdout",
          "text": [
            "Validation MAE: 2.44\n",
            "Test MAE: 2.62\n"
          ]
        }
      ],
      "source": [
        "def evaluate_naive_method(dataset):\n",
        "    total_abs_err = 0.\n",
        "    samples_seen = 0\n",
        "    for samples, targets in dataset:\n",
        "        preds = samples[:, -1, 1] * std[1] + mean[1]\n",
        "        total_abs_err += np.sum(np.abs(preds - targets))\n",
        "        samples_seen += samples.shape[0]\n",
        "    return total_abs_err / samples_seen\n",
        "\n",
        "print(f\"Validation MAE: {evaluate_naive_method(val_dataset):.2f}\")\n",
        "print(f\"Test MAE: {evaluate_naive_method(test_dataset):.2f}\")"
      ]
    },
    {
      "cell_type": "markdown",
      "metadata": {
        "id": "P4lurDaHUv-N"
      },
      "source": [
        "### Let's try a basic machine-learning model"
      ]
    },
    {
      "cell_type": "markdown",
      "metadata": {
        "id": "qskE-yQGUv-N"
      },
      "source": [
        "**Training and evaluating a densely connected model**"
      ]
    },
    {
      "cell_type": "code",
      "execution_count": 17,
      "metadata": {
        "colab": {
          "base_uri": "https://localhost:8080/"
        },
        "id": "_wlfPrXCUv-N",
        "outputId": "6c7d15ba-65eb-43d7-9e5a-4dc09d4d9fde"
      },
      "outputs": [
        {
          "output_type": "stream",
          "name": "stdout",
          "text": [
            "Epoch 1/10\n",
            "819/819 [==============================] - 62s 75ms/step - loss: 14.0544 - mae: 2.8888 - val_loss: 12.8480 - val_mae: 2.8460\n",
            "Epoch 2/10\n",
            "819/819 [==============================] - 54s 66ms/step - loss: 9.4597 - mae: 2.4183 - val_loss: 10.9226 - val_mae: 2.6281\n",
            "Epoch 3/10\n",
            "819/819 [==============================] - 63s 76ms/step - loss: 8.5998 - mae: 2.3097 - val_loss: 10.2550 - val_mae: 2.5337\n",
            "Epoch 4/10\n",
            "819/819 [==============================] - 58s 70ms/step - loss: 8.0630 - mae: 2.2354 - val_loss: 10.6378 - val_mae: 2.5790\n",
            "Epoch 5/10\n",
            "819/819 [==============================] - 57s 69ms/step - loss: 7.7023 - mae: 2.1854 - val_loss: 10.5950 - val_mae: 2.5826\n",
            "Epoch 6/10\n",
            "819/819 [==============================] - 61s 74ms/step - loss: 7.4347 - mae: 2.1488 - val_loss: 10.6400 - val_mae: 2.5802\n",
            "Epoch 7/10\n",
            "819/819 [==============================] - 56s 68ms/step - loss: 7.2460 - mae: 2.1223 - val_loss: 11.8778 - val_mae: 2.7360\n",
            "Epoch 8/10\n",
            "819/819 [==============================] - 60s 74ms/step - loss: 7.0770 - mae: 2.0981 - val_loss: 11.5450 - val_mae: 2.7011\n",
            "Epoch 9/10\n",
            "819/819 [==============================] - 55s 67ms/step - loss: 6.9422 - mae: 2.0782 - val_loss: 11.1576 - val_mae: 2.6380\n",
            "Epoch 10/10\n",
            "819/819 [==============================] - 62s 75ms/step - loss: 6.8174 - mae: 2.0600 - val_loss: 15.3031 - val_mae: 3.1211\n",
            "405/405 [==============================] - 18s 44ms/step - loss: 11.6696 - mae: 2.6912\n",
            "Test MAE: 2.69\n"
          ]
        }
      ],
      "source": [
        "from tensorflow import keras\n",
        "from tensorflow.keras import layers\n",
        "\n",
        "inputs = keras.Input(shape=(sequence_length, raw_data.shape[-1]))\n",
        "x = layers.Flatten()(inputs)\n",
        "x = layers.Dense(16, activation=\"relu\")(x)\n",
        "outputs = layers.Dense(1)(x)\n",
        "model = keras.Model(inputs, outputs)\n",
        "\n",
        "callbacks = [\n",
        "    keras.callbacks.ModelCheckpoint(\"jena_dense.keras\",\n",
        "                                    save_best_only=True)\n",
        "]\n",
        "model.compile(optimizer=\"rmsprop\", loss=\"mse\", metrics=[\"mae\"])\n",
        "history = model.fit(train_dataset,\n",
        "                    epochs=10,\n",
        "                    validation_data=val_dataset,\n",
        "                    callbacks=callbacks)\n",
        "\n",
        "model = keras.models.load_model(\"jena_dense.keras\")\n",
        "print(f\"Test MAE: {model.evaluate(test_dataset)[1]:.2f}\")"
      ]
    },
    {
      "cell_type": "markdown",
      "metadata": {
        "id": "3HpFJyMgUv-N"
      },
      "source": [
        "**Plotting results**"
      ]
    },
    {
      "cell_type": "code",
      "execution_count": 18,
      "metadata": {
        "colab": {
          "base_uri": "https://localhost:8080/",
          "height": 452
        },
        "id": "A-8iuCp_Uv-N",
        "outputId": "13d61f14-dcf8-4f76-c584-adcdba45fde1"
      },
      "outputs": [
        {
          "output_type": "display_data",
          "data": {
            "text/plain": [
              "<Figure size 640x480 with 1 Axes>"
            ],
            "image/png": "[encoded data removed]"
          },
          "metadata": {}
        }
      ],
      "source": [
        "import matplotlib.pyplot as plt\n",
        "loss = history.history[\"mae\"]\n",
        "val_loss = history.history[\"val_mae\"]\n",
        "epochs = range(1, len(loss) + 1)\n",
        "plt.figure()\n",
        "plt.plot(epochs, loss, \"bo\", label=\"Training MAE\")\n",
        "plt.plot(epochs, val_loss, \"b\", label=\"Validation MAE\")\n",
        "plt.title(\"Training and validation MAE\")\n",
        "plt.legend()\n",
        "plt.show()"
      ]
    },
    {
      "cell_type": "markdown",
      "metadata": {
        "id": "RX14oA4pUv-N"
      },
      "source": [
        "### Let's try a 1D convolutional model"
      ]
    },
    {
      "cell_type": "code",
      "execution_count": 19,
      "metadata": {
        "colab": {
          "base_uri": "https://localhost:8080/"
        },
        "id": "xgtIFjDaUv-O",
        "outputId": "16aea277-606a-4ff6-911a-adc3b3c92acb"
      },
      "outputs": [
        {
          "output_type": "stream",
          "name": "stdout",
          "text": [
            "Epoch 1/10\n",
            "819/819 [==============================] - 124s 150ms/step - loss: 31.8338 - mae: 4.2604 - val_loss: 19.3086 - val_mae: 3.4976\n",
            "Epoch 2/10\n",
            "819/819 [==============================] - 100s 121ms/step - loss: 16.7205 - mae: 3.2450 - val_loss: 14.4390 - val_mae: 2.9945\n",
            "Epoch 3/10\n",
            "819/819 [==============================] - 98s 118ms/step - loss: 15.2101 - mae: 3.0924 - val_loss: 14.3897 - val_mae: 2.9858\n",
            "Epoch 4/10\n",
            "819/819 [==============================] - 98s 119ms/step - loss: 14.4111 - mae: 3.0073 - val_loss: 14.2955 - val_mae: 2.9748\n",
            "Epoch 5/10\n",
            "819/819 [==============================] - 97s 119ms/step - loss: 13.7539 - mae: 2.9327 - val_loss: 17.3769 - val_mae: 3.2466\n",
            "Epoch 6/10\n",
            "819/819 [==============================] - 101s 123ms/step - loss: 13.1239 - mae: 2.8636 - val_loss: 14.2634 - val_mae: 2.9497\n",
            "Epoch 7/10\n",
            "819/819 [==============================] - 102s 124ms/step - loss: 12.6332 - mae: 2.8102 - val_loss: 14.1823 - val_mae: 2.9587\n",
            "Epoch 8/10\n",
            "819/819 [==============================] - 100s 122ms/step - loss: 12.2363 - mae: 2.7670 - val_loss: 14.0467 - val_mae: 2.9490\n",
            "Epoch 9/10\n",
            "819/819 [==============================] - 96s 117ms/step - loss: 11.8880 - mae: 2.7275 - val_loss: 14.8521 - val_mae: 3.0284\n",
            "Epoch 10/10\n",
            "819/819 [==============================] - 102s 124ms/step - loss: 11.5731 - mae: 2.6918 - val_loss: 13.7354 - val_mae: 2.9264\n",
            "405/405 [==============================] - 23s 57ms/step - loss: 15.4785 - mae: 3.1068\n",
            "Test MAE: 3.11\n"
          ]
        }
      ],
      "source": [
        "inputs = keras.Input(shape=(sequence_length, raw_data.shape[-1]))\n",
        "x = layers.Conv1D(8, 24, activation=\"relu\")(inputs)\n",
        "x = layers.MaxPooling1D(2)(x)\n",
        "x = layers.Conv1D(8, 12, activation=\"relu\")(x)\n",
        "x = layers.MaxPooling1D(2)(x)\n",
        "x = layers.Conv1D(8, 6, activation=\"relu\")(x)\n",
        "x = layers.GlobalAveragePooling1D()(x)\n",
        "outputs = layers.Dense(1)(x)\n",
        "model = keras.Model(inputs, outputs)\n",
        "\n",
        "callbacks = [\n",
        "    keras.callbacks.ModelCheckpoint(\"jena_conv.keras\",\n",
        "                                    save_best_only=True)\n",
        "]\n",
        "model.compile(optimizer=\"rmsprop\", loss=\"mse\", metrics=[\"mae\"])\n",
        "history = model.fit(train_dataset,\n",
        "                    epochs=10,\n",
        "                    validation_data=val_dataset,\n",
        "                    callbacks=callbacks)\n",
        "\n",
        "model = keras.models.load_model(\"jena_conv.keras\")\n",
        "print(f\"Test MAE: {model.evaluate(test_dataset)[1]:.2f}\")"
      ]
    },
    {
      "cell_type": "markdown",
      "metadata": {
        "id": "kJNpeMglUv-O"
      },
      "source": [
        "### A first recurrent baseline"
      ]
    },
    {
      "cell_type": "markdown",
      "metadata": {
        "id": "w0A02mRlUv-O"
      },
      "source": [
        "**A simple LSTM-based model**"
      ]
    },
    {
      "cell_type": "code",
      "execution_count": 20,
      "metadata": {
        "colab": {
          "base_uri": "https://localhost:8080/"
        },
        "id": "1d7aNJjYUv-O",
        "outputId": "ab8c3d5d-b8d9-4a68-9080-c1a98df449e3"
      },
      "outputs": [
        {
          "output_type": "stream",
          "name": "stdout",
          "text": [
            "Epoch 1/10\n",
            "819/819 [==============================] - 141s 169ms/step - loss: 45.4019 - mae: 4.9189 - val_loss: 13.1697 - val_mae: 2.7303\n",
            "Epoch 2/10\n",
            "819/819 [==============================] - 138s 168ms/step - loss: 11.0524 - mae: 2.5772 - val_loss: 9.8125 - val_mae: 2.4193\n",
            "Epoch 3/10\n",
            "819/819 [==============================] - 121s 148ms/step - loss: 9.6576 - mae: 2.4209 - val_loss: 9.6998 - val_mae: 2.4110\n",
            "Epoch 4/10\n",
            "819/819 [==============================] - 140s 170ms/step - loss: 9.1477 - mae: 2.3589 - val_loss: 9.6465 - val_mae: 2.3972\n",
            "Epoch 5/10\n",
            "819/819 [==============================] - 140s 171ms/step - loss: 8.8046 - mae: 2.3153 - val_loss: 9.6982 - val_mae: 2.4001\n",
            "Epoch 6/10\n",
            "819/819 [==============================] - 137s 167ms/step - loss: 8.5288 - mae: 2.2809 - val_loss: 10.1105 - val_mae: 2.4447\n",
            "Epoch 7/10\n",
            "819/819 [==============================] - 141s 171ms/step - loss: 8.2966 - mae: 2.2509 - val_loss: 10.3393 - val_mae: 2.4737\n",
            "Epoch 8/10\n",
            "819/819 [==============================] - 139s 169ms/step - loss: 8.0569 - mae: 2.2216 - val_loss: 10.4131 - val_mae: 2.5130\n",
            "Epoch 9/10\n",
            "819/819 [==============================] - 126s 153ms/step - loss: 7.8683 - mae: 2.1927 - val_loss: 10.3812 - val_mae: 2.4983\n",
            "Epoch 10/10\n",
            "819/819 [==============================] - 138s 168ms/step - loss: 7.7133 - mae: 2.1688 - val_loss: 10.7804 - val_mae: 2.5470\n",
            "405/405 [==============================] - 31s 74ms/step - loss: 10.7794 - mae: 2.5918\n",
            "Test MAE: 2.59\n"
          ]
        }
      ],
      "source": [
        "inputs = keras.Input(shape=(sequence_length, raw_data.shape[-1]))\n",
        "x = layers.LSTM(16)(inputs)\n",
        "outputs = layers.Dense(1)(x)\n",
        "model = keras.Model(inputs, outputs)\n",
        "\n",
        "callbacks = [\n",
        "    keras.callbacks.ModelCheckpoint(\"jena_lstm.keras\",\n",
        "                                    save_best_only=True)\n",
        "]\n",
        "model.compile(optimizer=\"rmsprop\", loss=\"mse\", metrics=[\"mae\"])\n",
        "history = model.fit(train_dataset,\n",
        "                    epochs=10,\n",
        "                    validation_data=val_dataset,\n",
        "                    callbacks=callbacks)\n",
        "\n",
        "model = keras.models.load_model(\"jena_lstm.keras\")\n",
        "print(f\"Test MAE: {model.evaluate(test_dataset)[1]:.2f}\")"
      ]
    },
    {
      "cell_type": "markdown",
      "metadata": {
        "id": "mBbAwC6MUv-O"
      },
      "source": [
        "## Understanding recurrent neural networks"
      ]
    },
    {
      "cell_type": "markdown",
      "metadata": {
        "id": "2G_Y-h8XUv-O"
      },
      "source": [
        "**NumPy implementation of a simple RNN**"
      ]
    },
    {
      "cell_type": "code",
      "execution_count": 21,
      "metadata": {
        "id": "jg3rY3cjUv-O"
      },
      "outputs": [],
      "source": [
        "import numpy as np\n",
        "timesteps = 100\n",
        "input_features = 32\n",
        "output_features = 64\n",
        "inputs = np.random.random((timesteps, input_features))\n",
        "state_t = np.zeros((output_features,))\n",
        "W = np.random.random((output_features, input_features))\n",
        "U = np.random.random((output_features, output_features))\n",
        "b = np.random.random((output_features,))\n",
        "successive_outputs = []\n",
        "for input_t in inputs:\n",
        "    output_t = np.tanh(np.dot(W, input_t) + np.dot(U, state_t) + b)\n",
        "    successive_outputs.append(output_t)\n",
        "    state_t = output_t\n",
        "final_output_sequence = np.stack(successive_outputs, axis=0)"
      ]
    },
    {
      "cell_type": "markdown",
      "metadata": {
        "id": "ZdBXQTM0Uv-W"
      },
      "source": [
        "### A recurrent layer in Keras"
      ]
    },
    {
      "cell_type": "markdown",
      "metadata": {
        "id": "_nj_LCO6Uv-W"
      },
      "source": [
        "**An RNN layer that can process sequences of any length**"
      ]
    },
    {
      "cell_type": "code",
      "execution_count": 22,
      "metadata": {
        "id": "dB9s0LQyUv-W"
      },
      "outputs": [],
      "source": [
        "num_features = 14\n",
        "inputs = keras.Input(shape=(None, num_features))\n",
        "outputs = layers.SimpleRNN(16)(inputs)"
      ]
    },
    {
      "cell_type": "markdown",
      "metadata": {
        "id": "LDaCvsJpUv-X"
      },
      "source": [
        "**An RNN layer that returns only its last output step**"
      ]
    },
    {
      "cell_type": "code",
      "execution_count": 23,
      "metadata": {
        "colab": {
          "base_uri": "https://localhost:8080/"
        },
        "id": "AUSDSEhvUv-X",
        "outputId": "86c53c57-6a6b-406c-9361-96ecce92c79a"
      },
      "outputs": [
        {
          "output_type": "stream",
          "name": "stdout",
          "text": [
            "(None, 16)\n"
          ]
        }
      ],
      "source": [
        "num_features = 14\n",
        "steps = 120\n",
        "inputs = keras.Input(shape=(steps, num_features))\n",
        "outputs = layers.SimpleRNN(16, return_sequences=False)(inputs)\n",
        "print(outputs.shape)"
      ]
    },
    {
      "cell_type": "markdown",
      "metadata": {
        "id": "NKQ7uDUNUv-X"
      },
      "source": [
        "**An RNN layer that returns its full output sequence**"
      ]
    },
    {
      "cell_type": "code",
      "execution_count": 24,
      "metadata": {
        "colab": {
          "base_uri": "https://localhost:8080/"
        },
        "id": "WPSI4OefUv-X",
        "outputId": "65ae8c22-e049-4572-e429-962b558f18aa"
      },
      "outputs": [
        {
          "output_type": "stream",
          "name": "stdout",
          "text": [
            "(None, 120, 16)\n"
          ]
        }
      ],
      "source": [
        "num_features = 14\n",
        "steps = 120\n",
        "inputs = keras.Input(shape=(steps, num_features))\n",
        "outputs = layers.SimpleRNN(16, return_sequences=True)(inputs)\n",
        "print(outputs.shape)"
      ]
    },
    {
      "cell_type": "markdown",
      "metadata": {
        "id": "L22mX4apUv-X"
      },
      "source": [
        "**Stacking RNN layers**"
      ]
    },
    {
      "cell_type": "code",
      "execution_count": 25,
      "metadata": {
        "id": "N_SKfCOIUv-X"
      },
      "outputs": [],
      "source": [
        "inputs = keras.Input(shape=(steps, num_features))\n",
        "x = layers.SimpleRNN(16, return_sequences=True)(inputs)\n",
        "x = layers.SimpleRNN(16, return_sequences=True)(x)\n",
        "outputs = layers.SimpleRNN(16)(x)"
      ]
    },
    {
      "cell_type": "markdown",
      "metadata": {
        "id": "_K-xvQ0JUv-X"
      },
      "source": [
        "## Advanced use of recurrent neural networks"
      ]
    },
    {
      "cell_type": "markdown",
      "metadata": {
        "id": "Oi2c7NzyUv-X"
      },
      "source": [
        "### Using recurrent dropout to fight overfitting"
      ]
    },
    {
      "cell_type": "markdown",
      "metadata": {
        "id": "yEIvNDfCUv-Z"
      },
      "source": [
        "**Training and evaluating a dropout-regularized LSTM**"
      ]
    },
    {
      "cell_type": "code",
      "execution_count": 27,
      "metadata": {
        "colab": {
          "base_uri": "https://localhost:8080/"
        },
        "id": "qAgcSBwFUv-Z",
        "outputId": "55d31a7d-7abb-4394-e2c0-bbd4e6f3a5c1"
      },
      "outputs": [
        {
          "output_type": "stream",
          "name": "stdout",
          "text": [
            "Epoch 1/10\n",
            "819/819 [==============================] - 281s 336ms/step - loss: 25.3285 - mae: 3.7458 - val_loss: 9.8182 - val_mae: 2.4319\n",
            "Epoch 2/10\n",
            "819/819 [==============================] - 263s 321ms/step - loss: 14.6897 - mae: 2.9675 - val_loss: 9.5585 - val_mae: 2.4035\n",
            "Epoch 3/10\n",
            "819/819 [==============================] - 266s 324ms/step - loss: 13.8737 - mae: 2.8871 - val_loss: 9.5683 - val_mae: 2.4086\n",
            "Epoch 4/10\n",
            "819/819 [==============================] - 255s 311ms/step - loss: 13.1896 - mae: 2.8119 - val_loss: 9.5077 - val_mae: 2.3922\n",
            "Epoch 5/10\n",
            "819/819 [==============================] - 261s 319ms/step - loss: 12.7106 - mae: 2.7612 - val_loss: 9.4786 - val_mae: 2.4015\n",
            "Epoch 6/10\n",
            "819/819 [==============================] - 283s 345ms/step - loss: 12.4026 - mae: 2.7248 - val_loss: 9.3175 - val_mae: 2.3688\n",
            "Epoch 7/10\n",
            "819/819 [==============================] - 268s 327ms/step - loss: 12.0996 - mae: 2.6947 - val_loss: 9.3509 - val_mae: 2.3799\n",
            "Epoch 8/10\n",
            "819/819 [==============================] - 287s 350ms/step - loss: 11.8047 - mae: 2.6632 - val_loss: 9.2189 - val_mae: 2.3609\n",
            "Epoch 9/10\n",
            "819/819 [==============================] - 280s 341ms/step - loss: 11.5212 - mae: 2.6312 - val_loss: 9.3401 - val_mae: 2.3760\n",
            "Epoch 10/10\n",
            "819/819 [==============================] - 265s 323ms/step - loss: 11.3461 - mae: 2.6107 - val_loss: 9.8776 - val_mae: 2.4541\n"
          ]
        }
      ],
      "source": [
        "inputs = keras.Input(shape=(sequence_length, raw_data.shape[-1]))\n",
        "x = layers.LSTM(32, recurrent_dropout=0.25)(inputs)\n",
        "x = layers.Dropout(0.5)(x)\n",
        "outputs = layers.Dense(1)(x)\n",
        "model = keras.Model(inputs, outputs)\n",
        "\n",
        "callbacks = [\n",
        "    keras.callbacks.ModelCheckpoint(\"jena_lstm_dropout.keras\",\n",
        "                                    save_best_only=True)\n",
        "]\n",
        "model.compile(optimizer=\"rmsprop\", loss=\"mse\", metrics=[\"mae\"])\n",
        "history = model.fit(train_dataset,\n",
        "                    epochs=10,\n",
        "                    validation_data=val_dataset,\n",
        "                    callbacks=callbacks)"
      ]
    },
    {
      "cell_type": "code",
      "source": [
        "model = keras.models.load_model(\"jena_lstm_dropout.keras\")\n",
        "print(f\"Test MAE: {model.evaluate(test_dataset)[1]:.2f}\")"
      ],
      "metadata": {
        "colab": {
          "base_uri": "https://localhost:8080/"
        },
        "id": "LC9M8Rt44F3d",
        "outputId": "8125a21d-45d0-4292-b77b-26b787c4cc7d"
      },
      "execution_count": 28,
      "outputs": [
        {
          "output_type": "stream",
          "name": "stdout",
          "text": [
            "405/405 [==============================] - 45s 110ms/step - loss: 10.6578 - mae: 2.5938\n",
            "Test MAE: 2.59\n"
          ]
        }
      ]
    },
    {
      "cell_type": "code",
      "execution_count": 29,
      "metadata": {
        "id": "Jgyy5SPhUv-a"
      },
      "outputs": [],
      "source": [
        "inputs = keras.Input(shape=(sequence_length, num_features))\n",
        "x = layers.LSTM(32, recurrent_dropout=0.2, unroll=True)(inputs)"
      ]
    },
    {
      "cell_type": "markdown",
      "metadata": {
        "id": "f6xYvJ_1Uv-a"
      },
      "source": [
        "### Stacking recurrent layers"
      ]
    },
    {
      "cell_type": "markdown",
      "metadata": {
        "id": "xRX3xv5PUv-a"
      },
      "source": [
        "**Training and evaluating a dropout-regularized, stacked GRU(32)\n",
        " model**"
      ]
    },
    {
      "cell_type": "code",
      "execution_count": 30,
      "metadata": {
        "colab": {
          "base_uri": "https://localhost:8080/"
        },
        "id": "Q4gkyKorUv-a",
        "outputId": "b968f592-d8e4-4f75-8587-280037040a89"
      },
      "outputs": [
        {
          "output_type": "stream",
          "name": "stdout",
          "text": [
            "Epoch 1/10\n",
            "819/819 [==============================] - 532s 644ms/step - loss: 25.1347 - mae: 3.6998 - val_loss: 9.4276 - val_mae: 2.3808\n",
            "Epoch 2/10\n",
            "819/819 [==============================] - 467s 570ms/step - loss: 14.2009 - mae: 2.9164 - val_loss: 9.0517 - val_mae: 2.3303\n",
            "Epoch 3/10\n",
            "819/819 [==============================] - 474s 579ms/step - loss: 13.3156 - mae: 2.8284 - val_loss: 8.8760 - val_mae: 2.3078\n",
            "Epoch 4/10\n",
            "819/819 [==============================] - 467s 569ms/step - loss: 12.7756 - mae: 2.7763 - val_loss: 8.7492 - val_mae: 2.2944\n",
            "Epoch 5/10\n",
            "819/819 [==============================] - 466s 569ms/step - loss: 12.2413 - mae: 2.7158 - val_loss: 8.8851 - val_mae: 2.3108\n",
            "Epoch 6/10\n",
            "819/819 [==============================] - 464s 566ms/step - loss: 11.8463 - mae: 2.6707 - val_loss: 8.7025 - val_mae: 2.2872\n",
            "Epoch 7/10\n",
            "819/819 [==============================] - 468s 572ms/step - loss: 11.4446 - mae: 2.6290 - val_loss: 8.7292 - val_mae: 2.3002\n",
            "Epoch 8/10\n",
            "819/819 [==============================] - 465s 568ms/step - loss: 10.9580 - mae: 2.5767 - val_loss: 8.6462 - val_mae: 2.2820\n",
            "Epoch 9/10\n",
            "819/819 [==============================] - 461s 562ms/step - loss: 10.6767 - mae: 2.5393 - val_loss: 9.2261 - val_mae: 2.3610\n",
            "Epoch 10/10\n",
            "819/819 [==============================] - 463s 565ms/step - loss: 10.2988 - mae: 2.4971 - val_loss: 9.1399 - val_mae: 2.3417\n",
            "405/405 [==============================] - 55s 132ms/step - loss: 9.6291 - mae: 2.4384\n",
            "Test MAE: 2.44\n"
          ]
        }
      ],
      "source": [
        "inputs = keras.Input(shape=(sequence_length, raw_data.shape[-1]))\n",
        "x = layers.GRU(32, recurrent_dropout=0.5, return_sequences=True)(inputs)\n",
        "x = layers.GRU(32, recurrent_dropout=0.5)(x)\n",
        "x = layers.Dropout(0.5)(x)\n",
        "outputs = layers.Dense(1)(x)\n",
        "model = keras.Model(inputs, outputs)\n",
        "\n",
        "callbacks = [\n",
        "    keras.callbacks.ModelCheckpoint(\"jena_stacked_gru32_dropout.keras\",\n",
        "                                    save_best_only=True)\n",
        "]\n",
        "model.compile(optimizer=\"rmsprop\", loss=\"mse\", metrics=[\"mae\"])\n",
        "history = model.fit(train_dataset,\n",
        "                    epochs=10,\n",
        "                    validation_data=val_dataset,\n",
        "                    callbacks=callbacks)\n",
        "model = keras.models.load_model(\"jena_stacked_gru32_dropout.keras\")\n",
        "print(f\"Test MAE: {model.evaluate(test_dataset)[1]:.2f}\")"
      ]
    },
    {
      "cell_type": "markdown",
      "source": [
        "**Training and evaluating a dropout-regularized, stacked GRU mode(16)**\n",
        "\n"
      ],
      "metadata": {
        "id": "cYgKNDs60xQI"
      }
    },
    {
      "cell_type": "code",
      "source": [
        "inputs = keras.Input(shape=(sequence_length, raw_data.shape[-1]))\n",
        "x = layers.GRU(16, recurrent_dropout=0.5, return_sequences=True)(inputs)\n",
        "x = layers.GRU(16, recurrent_dropout=0.5)(x)\n",
        "x = layers.Dropout(0.5)(x)\n",
        "outputs = layers.Dense(1)(x)\n",
        "model = keras.Model(inputs, outputs)\n",
        "\n",
        "callbacks = [\n",
        "    keras.callbacks.ModelCheckpoint(\"jena_stacked_gru16_dropout.keras\",\n",
        "                                    save_best_only=True)\n",
        "]\n",
        "model.compile(optimizer=\"rmsprop\", loss=\"mse\", metrics=[\"mae\"])\n",
        "history = model.fit(train_dataset,\n",
        "                    epochs=10,\n",
        "                    validation_data=val_dataset,\n",
        "                    callbacks=callbacks)\n",
        "model = keras.models.load_model(\"jena_stacked_gru16_dropout.keras\")\n",
        "print(f\"Test MAE: {model.evaluate(test_dataset)[1]:.2f}\")"
      ],
      "metadata": {
        "colab": {
          "base_uri": "https://localhost:8080/"
        },
        "id": "_xkoa2ux1CC7",
        "outputId": "9c3f4021-d256-41df-9363-7a37534c0b33"
      },
      "execution_count": 31,
      "outputs": [
        {
          "metadata": {
            "tags": null
          },
          "name": "stdout",
          "output_type": "stream",
          "text": [
            "Epoch 1/10\n",
            "819/819 [==============================] - 319s 384ms/step - loss: 46.0969 - mae: 5.0154 - val_loss: 13.3380 - val_mae: 2.7111\n",
            "Epoch 2/10\n",
            "819/819 [==============================] - 316s 385ms/step - loss: 18.6758 - mae: 3.2995 - val_loss: 9.8854 - val_mae: 2.4377\n",
            "Epoch 3/10\n",
            "819/819 [==============================] - 309s 377ms/step - loss: 17.1263 - mae: 3.1730 - val_loss: 9.0487 - val_mae: 2.3313\n",
            "Epoch 4/10\n",
            "819/819 [==============================] - 309s 377ms/step - loss: 16.3375 - mae: 3.1000 - val_loss: 9.1751 - val_mae: 2.3420\n",
            "Epoch 5/10\n",
            "819/819 [==============================] - 316s 385ms/step - loss: 15.7094 - mae: 3.0395 - val_loss: 9.2059 - val_mae: 2.3637\n",
            "Epoch 6/10\n",
            "819/819 [==============================] - 310s 378ms/step - loss: 15.2392 - mae: 2.9999 - val_loss: 8.8959 - val_mae: 2.3156\n",
            "Epoch 7/10\n",
            "819/819 [==============================] - 309s 376ms/step - loss: 14.7266 - mae: 2.9509 - val_loss: 8.5843 - val_mae: 2.2732\n",
            "Epoch 8/10\n",
            "819/819 [==============================] - 310s 378ms/step - loss: 14.4098 - mae: 2.9191 - val_loss: 8.6470 - val_mae: 2.2821\n",
            "Epoch 9/10\n",
            "819/819 [==============================] - 309s 378ms/step - loss: 14.0310 - mae: 2.8848 - val_loss: 8.8983 - val_mae: 2.3058\n",
            "Epoch 10/10\n",
            "819/819 [==============================] - 305s 371ms/step - loss: 13.7350 - mae: 2.8592 - val_loss: 8.6580 - val_mae: 2.2931\n",
            "405/405 [==============================] - 41s 96ms/step - loss: 9.9045 - mae: 2.4477\n",
            "Test MAE: 2.45\n"
          ]
        }
      ]
    },
    {
      "cell_type": "markdown",
      "source": [
        "**Training and evaluating a dropout-regularized, stacked LSTM(32) model**"
      ],
      "metadata": {
        "id": "XiD_6Ifg1J4Z"
      }
    },
    {
      "cell_type": "code",
      "source": [
        "inputs = keras.Input(shape=(sequence_length, raw_data.shape[-1]))\n",
        "x = layers.LSTM(32, recurrent_dropout=0.5, return_sequences=True)(inputs)\n",
        "x = layers.LSTM(32, recurrent_dropout=0.5)(x)\n",
        "x = layers.Dropout(0.5)(x)\n",
        "outputs = layers.Dense(1)(x)\n",
        "model = keras.Model(inputs, outputs)\n",
        "\n",
        "callbacks = [\n",
        "    keras.callbacks.ModelCheckpoint(\"jena_stacked_lstm32_dropout.keras\",\n",
        "                                    save_best_only=True)\n",
        "]\n",
        "model.compile(optimizer=\"rmsprop\", loss=\"mse\", metrics=[\"mae\"])\n",
        "history = model.fit(train_dataset,\n",
        "                    epochs=10,\n",
        "                    validation_data=val_dataset,\n",
        "                    callbacks=callbacks)\n",
        "model = keras.models.load_model(\"jena_stacked_lstm32_dropout.keras\")\n",
        "print(f\"Test MAE: {model.evaluate(test_dataset)[1]:.2f}\")"
      ],
      "metadata": {
        "colab": {
          "base_uri": "https://localhost:8080/"
        },
        "id": "auE78w_x1JYr",
        "outputId": "3e010b31-e3fa-4a86-85eb-bc99facb1eed"
      },
      "execution_count": 32,
      "outputs": [
        {
          "output_type": "stream",
          "name": "stdout",
          "text": [
            "Epoch 1/10\n",
            "819/819 [==============================] - 532s 643ms/step - loss: 26.6970 - mae: 3.8068 - val_loss: 9.5109 - val_mae: 2.3842\n",
            "Epoch 2/10\n",
            "819/819 [==============================] - 529s 646ms/step - loss: 13.7018 - mae: 2.8694 - val_loss: 9.4251 - val_mae: 2.3984\n",
            "Epoch 3/10\n",
            "819/819 [==============================] - 535s 653ms/step - loss: 12.5070 - mae: 2.7383 - val_loss: 9.2721 - val_mae: 2.3796\n",
            "Epoch 4/10\n",
            "819/819 [==============================] - 522s 638ms/step - loss: 11.5472 - mae: 2.6299 - val_loss: 9.6565 - val_mae: 2.4534\n",
            "Epoch 5/10\n",
            "819/819 [==============================] - 526s 642ms/step - loss: 10.8664 - mae: 2.5464 - val_loss: 9.7187 - val_mae: 2.4477\n",
            "Epoch 6/10\n",
            "819/819 [==============================] - 527s 643ms/step - loss: 10.2189 - mae: 2.4743 - val_loss: 9.9956 - val_mae: 2.4825\n",
            "Epoch 7/10\n",
            "819/819 [==============================] - 529s 645ms/step - loss: 9.6892 - mae: 2.4076 - val_loss: 10.5126 - val_mae: 2.5383\n",
            "Epoch 8/10\n",
            "819/819 [==============================] - 496s 605ms/step - loss: 9.1322 - mae: 2.3365 - val_loss: 10.4777 - val_mae: 2.5586\n",
            "Epoch 9/10\n",
            "819/819 [==============================] - 526s 642ms/step - loss: 8.7970 - mae: 2.2925 - val_loss: 10.8181 - val_mae: 2.5871\n",
            "Epoch 10/10\n",
            "819/819 [==============================] - 525s 640ms/step - loss: 8.4817 - mae: 2.2508 - val_loss: 11.1260 - val_mae: 2.6274\n",
            "405/405 [==============================] - 57s 139ms/step - loss: 10.6574 - mae: 2.5695\n",
            "Test MAE: 2.57\n"
          ]
        }
      ]
    },
    {
      "cell_type": "markdown",
      "source": [
        "**Training and evaluating a dropout-regularized, stacked LSTM(16) model**"
      ],
      "metadata": {
        "id": "vX3Ss5tg1I6Z"
      }
    },
    {
      "cell_type": "code",
      "source": [
        "inputs = keras.Input(shape=(sequence_length, raw_data.shape[-1]))\n",
        "x = layers.LSTM(16, recurrent_dropout=0.5, return_sequences=True)(inputs)\n",
        "x = layers.LSTM(16, recurrent_dropout=0.5)(x)\n",
        "x = layers.Dropout(0.5)(x)\n",
        "outputs = layers.Dense(1)(x)\n",
        "model = keras.Model(inputs, outputs)\n",
        "\n",
        "callbacks = [\n",
        "    keras.callbacks.ModelCheckpoint(\"jena_stacked_lstm16_dropout.keras\",\n",
        "                                    save_best_only=True)\n",
        "]\n",
        "model.compile(optimizer=\"rmsprop\", loss=\"mse\", metrics=[\"mae\"])\n",
        "history = model.fit(train_dataset,\n",
        "                    epochs=10,\n",
        "                    validation_data=val_dataset,\n",
        "                    callbacks=callbacks)\n",
        "model = keras.models.load_model(\"jena_stacked_lstm16_dropout.keras\")\n",
        "print(f\"Test MAE: {model.evaluate(test_dataset)[1]:.2f}\")"
      ],
      "metadata": {
        "colab": {
          "base_uri": "https://localhost:8080/"
        },
        "id": "ICF-OTcc1MVk",
        "outputId": "67b271c3-2d07-4ec5-858a-b174689ff29c"
      },
      "execution_count": 34,
      "outputs": [
        {
          "output_type": "stream",
          "name": "stdout",
          "text": [
            "Epoch 1/10\n",
            "819/819 [==============================] - 426s 510ms/step - loss: 44.1200 - mae: 4.9428 - val_loss: 12.7878 - val_mae: 2.6982\n",
            "Epoch 2/10\n",
            "819/819 [==============================] - 374s 457ms/step - loss: 18.8701 - mae: 3.3373 - val_loss: 9.7758 - val_mae: 2.4120\n",
            "Epoch 3/10\n",
            "819/819 [==============================] - 367s 447ms/step - loss: 16.9386 - mae: 3.1576 - val_loss: 9.1598 - val_mae: 2.3371\n",
            "Epoch 4/10\n",
            "819/819 [==============================] - 407s 497ms/step - loss: 16.0664 - mae: 3.0705 - val_loss: 9.3706 - val_mae: 2.3712\n",
            "Epoch 5/10\n",
            "819/819 [==============================] - 406s 496ms/step - loss: 15.2200 - mae: 2.9935 - val_loss: 9.4647 - val_mae: 2.3794\n",
            "Epoch 6/10\n",
            "819/819 [==============================] - 407s 497ms/step - loss: 14.5160 - mae: 2.9270 - val_loss: 9.6160 - val_mae: 2.4119\n",
            "Epoch 7/10\n",
            "819/819 [==============================] - 403s 492ms/step - loss: 13.9764 - mae: 2.8693 - val_loss: 9.1703 - val_mae: 2.3486\n",
            "Epoch 8/10\n",
            "819/819 [==============================] - 365s 446ms/step - loss: 13.5075 - mae: 2.8216 - val_loss: 9.4090 - val_mae: 2.3883\n",
            "Epoch 9/10\n",
            "819/819 [==============================] - 370s 451ms/step - loss: 13.0624 - mae: 2.7765 - val_loss: 9.4784 - val_mae: 2.3908\n",
            "Epoch 10/10\n",
            "819/819 [==============================] - 367s 447ms/step - loss: 12.7095 - mae: 2.7435 - val_loss: 10.0179 - val_mae: 2.4634\n",
            "405/405 [==============================] - 46s 110ms/step - loss: 10.6358 - mae: 2.5236\n",
            "Test MAE: 2.52\n"
          ]
        }
      ]
    },
    {
      "cell_type": "markdown",
      "metadata": {
        "id": "TrXWwnKpUv-a"
      },
      "source": [
        "### 1D and LSTM32\n"
      ]
    },
    {
      "cell_type": "code",
      "source": [
        "inputs = keras.Input(shape=(sequence_length, raw_data.shape[-1]))\n",
        "x = layers.Conv1D(64, 3, activation='relu')(inputs)\n",
        "x = layers.MaxPooling1D(3)(x)\n",
        "x = layers.Conv1D(128, 3, activation='relu')(x)\n",
        "x = layers.GlobalMaxPooling1D()(x)\n",
        "x = layers.Reshape((-1, 128))(x)  # Reshape the data to be 3D\n",
        "x = layers.LSTM(32)(x)\n",
        "outputs = layers.Dense(1)(x)\n",
        "model = keras.Model(inputs, outputs)\n",
        "\n",
        "model.compile(optimizer=\"rmsprop\", loss=\"mse\", metrics=[\"mae\"])\n",
        "\n",
        "callbacks = [\n",
        "    keras.callbacks.ModelCheckpoint(\"jena_conv_lstm.keras\", save_best_only=True)\n",
        "]\n",
        "\n",
        "history = model.fit(train_dataset,\n",
        "                    epochs=10,\n",
        "                    validation_data=val_dataset,\n",
        "                    callbacks=callbacks)\n",
        "\n",
        "model = keras.models.load_model(\"jena_conv_lstm.keras\")\n",
        "print(f\"Test MAE: {model.evaluate(test_dataset)[1]:.2f}\")"
      ],
      "metadata": {
        "colab": {
          "base_uri": "https://localhost:8080/"
        },
        "id": "2jIs1Nzgycle",
        "outputId": "6447222f-0759-4591-c715-c4aca87414e5"
      },
      "execution_count": 33,
      "outputs": [
        {
          "output_type": "stream",
          "name": "stdout",
          "text": [
            "Epoch 1/10\n",
            "819/819 [==============================] - 151s 177ms/step - loss: 28.7749 - mae: 4.0590 - val_loss: 22.2322 - val_mae: 3.7770\n",
            "Epoch 2/10\n",
            "819/819 [==============================] - 148s 180ms/step - loss: 15.8907 - mae: 3.1303 - val_loss: 21.5993 - val_mae: 3.6712\n",
            "Epoch 3/10\n",
            "819/819 [==============================] - 162s 197ms/step - loss: 13.5041 - mae: 2.8682 - val_loss: 21.2584 - val_mae: 3.7035\n",
            "Epoch 4/10\n",
            "819/819 [==============================] - 163s 199ms/step - loss: 11.9904 - mae: 2.6946 - val_loss: 22.9238 - val_mae: 3.7766\n",
            "Epoch 5/10\n",
            "819/819 [==============================] - 157s 192ms/step - loss: 10.8841 - mae: 2.5570 - val_loss: 21.5487 - val_mae: 3.7215\n",
            "Epoch 6/10\n",
            "819/819 [==============================] - 157s 192ms/step - loss: 10.0314 - mae: 2.4446 - val_loss: 27.9855 - val_mae: 4.1387\n",
            "Epoch 7/10\n",
            "819/819 [==============================] - 145s 176ms/step - loss: 9.4404 - mae: 2.3632 - val_loss: 22.6031 - val_mae: 3.7901\n",
            "Epoch 8/10\n",
            "819/819 [==============================] - 159s 194ms/step - loss: 8.8618 - mae: 2.2855 - val_loss: 23.8810 - val_mae: 3.9014\n",
            "Epoch 9/10\n",
            "819/819 [==============================] - 156s 190ms/step - loss: 8.3691 - mae: 2.2150 - val_loss: 22.9776 - val_mae: 3.8200\n",
            "Epoch 10/10\n",
            "819/819 [==============================] - 161s 197ms/step - loss: 7.9842 - mae: 2.1602 - val_loss: 23.7983 - val_mae: 3.8855\n",
            "405/405 [==============================] - 28s 67ms/step - loss: 23.3555 - mae: 3.8845\n",
            "Test MAE: 3.88\n"
          ]
        }
      ]
    },
    {
      "cell_type": "markdown",
      "source": [],
      "metadata": {
        "id": "3qmLJfrW0reU"
      }
    },
    {
      "cell_type": "markdown",
      "metadata": {
        "id": "7c2a9AL5Uv-a"
      },
      "source": [
        "**Training and evaluating a bidirectional LSTM**"
      ]
    },
    {
      "cell_type": "code",
      "execution_count": null,
      "metadata": {
        "id": "_wDxLrcpUv-a"
      },
      "outputs": [],
      "source": [
        "inputs = keras.Input(shape=(sequence_length, raw_data.shape[-1]))\n",
        "x = layers.Bidirectional(layers.LSTM(16))(inputs)\n",
        "outputs = layers.Dense(1)(x)\n",
        "model = keras.Model(inputs, outputs)\n",
        "\n",
        "model.compile(optimizer=\"rmsprop\", loss=\"mse\", metrics=[\"mae\"])\n",
        "history = model.fit(train_dataset,\n",
        "                    epochs=10,\n",
        "                    validation_data=val_dataset)"
      ]
    },
    {
      "cell_type": "markdown",
      "metadata": {
        "id": "VFyeS93rUv-a"
      },
      "source": [
        "### Going even further"
      ]
    },
    {
      "cell_type": "markdown",
      "metadata": {
        "id": "46F5nEbbUv-b"
      },
      "source": [
        "## Summary"
      ]
    }
  ],
  "metadata": {
    "colab": {
      "name": "chapter10_dl-for-timeseries.i",
      "provenance": [],
      "toc_visible": true
    },
    "kernelspec": {
      "display_name": "Python 3",
      "name": "python3"
    },
    "language_info": {
      "codemirror_mode": {
        "name": "ipython",
        "version": 3
      },
      "file_extension": ".py",
      "mimetype": "text/x-python",
      "name": "python",
      "nbconvert_exporter": "python",
      "pygments_lexer": "ipython3",
      "version": "3.7.0"
    }
  },
  "nbformat": 4,
  "nbformat_minor": 0
}